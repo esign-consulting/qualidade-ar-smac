{
 "cells": [
  {
   "cell_type": "code",
   "execution_count": 17,
   "id": "cb65686b-977c-4cd7-8ce3-d176bf0ccf4d",
   "metadata": {},
   "outputs": [
    {
     "name": "stdout",
     "output_type": "stream",
     "text": [
      "Requirement already satisfied: pandas in /Users/gcarmo/Library/Python/3.13/lib/python/site-packages (2.2.3)\n",
      "Requirement already satisfied: matplotlib in /Users/gcarmo/Library/Python/3.13/lib/python/site-packages (3.10.1)\n",
      "Requirement already satisfied: seaborn in /Users/gcarmo/Library/Python/3.13/lib/python/site-packages (0.13.2)\n",
      "Requirement already satisfied: numpy>=1.26.0 in /Users/gcarmo/Library/Python/3.13/lib/python/site-packages (from pandas) (2.2.4)\n",
      "Requirement already satisfied: python-dateutil>=2.8.2 in /opt/homebrew/Cellar/jupyterlab/4.3.6/libexec/lib/python3.13/site-packages (from pandas) (2.9.0.post0)\n",
      "Requirement already satisfied: pytz>=2020.1 in /Users/gcarmo/Library/Python/3.13/lib/python/site-packages (from pandas) (2025.1)\n",
      "Requirement already satisfied: tzdata>=2022.7 in /Users/gcarmo/Library/Python/3.13/lib/python/site-packages (from pandas) (2025.2)\n",
      "Requirement already satisfied: contourpy>=1.0.1 in /Users/gcarmo/Library/Python/3.13/lib/python/site-packages (from matplotlib) (1.3.1)\n",
      "Requirement already satisfied: cycler>=0.10 in /Users/gcarmo/Library/Python/3.13/lib/python/site-packages (from matplotlib) (0.12.1)\n",
      "Requirement already satisfied: fonttools>=4.22.0 in /Users/gcarmo/Library/Python/3.13/lib/python/site-packages (from matplotlib) (4.56.0)\n",
      "Requirement already satisfied: kiwisolver>=1.3.1 in /Users/gcarmo/Library/Python/3.13/lib/python/site-packages (from matplotlib) (1.4.8)\n",
      "Requirement already satisfied: packaging>=20.0 in /opt/homebrew/Cellar/jupyterlab/4.3.6/libexec/lib/python3.13/site-packages (from matplotlib) (24.2)\n",
      "Requirement already satisfied: pillow>=8 in /Users/gcarmo/Library/Python/3.13/lib/python/site-packages (from matplotlib) (11.1.0)\n",
      "Requirement already satisfied: pyparsing>=2.3.1 in /Users/gcarmo/Library/Python/3.13/lib/python/site-packages (from matplotlib) (3.2.1)\n",
      "Requirement already satisfied: six>=1.5 in /opt/homebrew/Cellar/jupyterlab/4.3.6/libexec/lib/python3.13/site-packages (from python-dateutil>=2.8.2->pandas) (1.17.0)\n",
      "Note: you may need to restart the kernel to use updated packages.\n"
     ]
    }
   ],
   "source": [
    "pip install pandas matplotlib seaborn"
   ]
  },
  {
   "cell_type": "code",
   "execution_count": 9,
   "id": "ce50c74b-1493-49ca-a06b-5c541bfe0da2",
   "metadata": {},
   "outputs": [
    {
     "data": {
      "application/vnd.microsoft.datawrangler.viewer.v0+json": {
       "columns": [
        {
         "name": "('estação', 'data')",
         "rawType": "object",
         "type": "unknown"
        },
        {
         "name": "objectid",
         "rawType": "int64",
         "type": "integer"
        },
        {
         "name": "codnum",
         "rawType": "int64",
         "type": "integer"
        },
        {
         "name": "chuva",
         "rawType": "float64",
         "type": "float"
        },
        {
         "name": "pres",
         "rawType": "float64",
         "type": "float"
        },
        {
         "name": "rs",
         "rawType": "float64",
         "type": "float"
        },
        {
         "name": "temp",
         "rawType": "float64",
         "type": "float"
        },
        {
         "name": "ur",
         "rawType": "float64",
         "type": "float"
        },
        {
         "name": "dir_vento",
         "rawType": "float64",
         "type": "float"
        },
        {
         "name": "vel_vento",
         "rawType": "float64",
         "type": "float"
        },
        {
         "name": "so2",
         "rawType": "float64",
         "type": "float"
        },
        {
         "name": "no2",
         "rawType": "float64",
         "type": "float"
        },
        {
         "name": "hcnm",
         "rawType": "float64",
         "type": "float"
        },
        {
         "name": "hct",
         "rawType": "float64",
         "type": "float"
        },
        {
         "name": "ch4",
         "rawType": "float64",
         "type": "float"
        },
        {
         "name": "co",
         "rawType": "float64",
         "type": "float"
        },
        {
         "name": "no",
         "rawType": "float64",
         "type": "float"
        },
        {
         "name": "nox",
         "rawType": "float64",
         "type": "float"
        },
        {
         "name": "o3",
         "rawType": "float64",
         "type": "float"
        },
        {
         "name": "pm10",
         "rawType": "float64",
         "type": "float"
        },
        {
         "name": "pm2_5",
         "rawType": "float64",
         "type": "float"
        },
        {
         "name": "lat",
         "rawType": "float64",
         "type": "float"
        },
        {
         "name": "lon",
         "rawType": "float64",
         "type": "float"
        },
        {
         "name": "x_utm_sirgas2000",
         "rawType": "float64",
         "type": "float"
        },
        {
         "name": "y_utm_sirgas2000",
         "rawType": "float64",
         "type": "float"
        }
       ],
       "conversionMethod": "pd.DataFrame",
       "ref": "097c2c1a-6c10-441b-bd8e-c5a9fb81785d",
       "rows": [
        [
         "('BG', Timestamp('2012-01-01 03:30:00+0000', tz='UTC'))",
         "1",
         "2",
         "0.2",
         "1008.15",
         null,
         "24.67",
         "95.24",
         null,
         null,
         null,
         "15.18",
         "0.18",
         "2.12",
         "1.94",
         "0.42",
         "2.18",
         "17.36",
         "28.06",
         "81.0",
         null,
         "-22.88790959",
         "-43.47107415",
         "656828.8045",
         "7468074.5684"
        ],
        [
         "('BG', Timestamp('2012-01-01 04:30:00+0000', tz='UTC'))",
         "2",
         "2",
         "0.4",
         "1007.13",
         null,
         "24.72",
         "94.13",
         null,
         null,
         "0.4",
         "9.5",
         "0.12",
         "2.08",
         "1.96",
         "0.35",
         "1.63",
         "11.12",
         "32.81",
         "61.0",
         null,
         "-22.88790959",
         "-43.47107415",
         "656828.8045",
         "7468074.5684"
        ],
        [
         "('BG', Timestamp('2012-01-01 05:30:00+0000', tz='UTC'))",
         "3",
         "2",
         "0.0",
         "1006.32",
         null,
         "24.49",
         "92.91",
         null,
         null,
         "0.12",
         "8.74",
         "0.1",
         "2.07",
         "1.97",
         "0.27",
         "1.73",
         "10.47",
         "31.61",
         "26.0",
         null,
         "-22.88790959",
         "-43.47107415",
         "656828.8045",
         "7468074.5684"
        ],
        [
         "('BG', Timestamp('2012-01-01 06:30:00+0000', tz='UTC'))",
         "4",
         "2",
         "0.2",
         "1005.82",
         null,
         "24.54",
         "92.59",
         null,
         null,
         "0.0",
         "5.51",
         "0.08",
         "2.01",
         "1.93",
         "0.21",
         "1.18",
         "6.68",
         "37.39",
         "20.0",
         null,
         "-22.88790959",
         "-43.47107415",
         "656828.8045",
         "7468074.5684"
        ],
        [
         "('BG', Timestamp('2012-01-01 07:30:00+0000', tz='UTC'))",
         "5",
         "2",
         "0.4",
         "1005.45",
         null,
         "24.78",
         "90.71",
         null,
         null,
         "0.0",
         "8.41",
         "0.06",
         "1.99",
         "1.94",
         "0.16",
         "0.95",
         "9.35",
         "33.45",
         "7.0",
         null,
         "-22.88790959",
         "-43.47107415",
         "656828.8045",
         "7468074.5684"
        ]
       ],
       "shape": {
        "columns": 24,
        "rows": 5
       }
      },
      "text/html": [
       "<div>\n",
       "<style scoped>\n",
       "    .dataframe tbody tr th:only-of-type {\n",
       "        vertical-align: middle;\n",
       "    }\n",
       "\n",
       "    .dataframe tbody tr th {\n",
       "        vertical-align: top;\n",
       "    }\n",
       "\n",
       "    .dataframe thead th {\n",
       "        text-align: right;\n",
       "    }\n",
       "</style>\n",
       "<table border=\"1\" class=\"dataframe\">\n",
       "  <thead>\n",
       "    <tr style=\"text-align: right;\">\n",
       "      <th></th>\n",
       "      <th></th>\n",
       "      <th>objectid</th>\n",
       "      <th>codnum</th>\n",
       "      <th>chuva</th>\n",
       "      <th>pres</th>\n",
       "      <th>rs</th>\n",
       "      <th>temp</th>\n",
       "      <th>ur</th>\n",
       "      <th>dir_vento</th>\n",
       "      <th>vel_vento</th>\n",
       "      <th>so2</th>\n",
       "      <th>...</th>\n",
       "      <th>co</th>\n",
       "      <th>no</th>\n",
       "      <th>nox</th>\n",
       "      <th>o3</th>\n",
       "      <th>pm10</th>\n",
       "      <th>pm2_5</th>\n",
       "      <th>lat</th>\n",
       "      <th>lon</th>\n",
       "      <th>x_utm_sirgas2000</th>\n",
       "      <th>y_utm_sirgas2000</th>\n",
       "    </tr>\n",
       "    <tr>\n",
       "      <th>estação</th>\n",
       "      <th>data</th>\n",
       "      <th></th>\n",
       "      <th></th>\n",
       "      <th></th>\n",
       "      <th></th>\n",
       "      <th></th>\n",
       "      <th></th>\n",
       "      <th></th>\n",
       "      <th></th>\n",
       "      <th></th>\n",
       "      <th></th>\n",
       "      <th></th>\n",
       "      <th></th>\n",
       "      <th></th>\n",
       "      <th></th>\n",
       "      <th></th>\n",
       "      <th></th>\n",
       "      <th></th>\n",
       "      <th></th>\n",
       "      <th></th>\n",
       "      <th></th>\n",
       "      <th></th>\n",
       "    </tr>\n",
       "  </thead>\n",
       "  <tbody>\n",
       "    <tr>\n",
       "      <th rowspan=\"5\" valign=\"top\">BG</th>\n",
       "      <th>2012-01-01 03:30:00+00:00</th>\n",
       "      <td>1</td>\n",
       "      <td>2</td>\n",
       "      <td>0.2</td>\n",
       "      <td>1008.15</td>\n",
       "      <td>NaN</td>\n",
       "      <td>24.67</td>\n",
       "      <td>95.24</td>\n",
       "      <td>NaN</td>\n",
       "      <td>NaN</td>\n",
       "      <td>NaN</td>\n",
       "      <td>...</td>\n",
       "      <td>0.42</td>\n",
       "      <td>2.18</td>\n",
       "      <td>17.36</td>\n",
       "      <td>28.06</td>\n",
       "      <td>81.0</td>\n",
       "      <td>NaN</td>\n",
       "      <td>-22.88791</td>\n",
       "      <td>-43.471074</td>\n",
       "      <td>656828.8045</td>\n",
       "      <td>7.468075e+06</td>\n",
       "    </tr>\n",
       "    <tr>\n",
       "      <th>2012-01-01 04:30:00+00:00</th>\n",
       "      <td>2</td>\n",
       "      <td>2</td>\n",
       "      <td>0.4</td>\n",
       "      <td>1007.13</td>\n",
       "      <td>NaN</td>\n",
       "      <td>24.72</td>\n",
       "      <td>94.13</td>\n",
       "      <td>NaN</td>\n",
       "      <td>NaN</td>\n",
       "      <td>0.40</td>\n",
       "      <td>...</td>\n",
       "      <td>0.35</td>\n",
       "      <td>1.63</td>\n",
       "      <td>11.12</td>\n",
       "      <td>32.81</td>\n",
       "      <td>61.0</td>\n",
       "      <td>NaN</td>\n",
       "      <td>-22.88791</td>\n",
       "      <td>-43.471074</td>\n",
       "      <td>656828.8045</td>\n",
       "      <td>7.468075e+06</td>\n",
       "    </tr>\n",
       "    <tr>\n",
       "      <th>2012-01-01 05:30:00+00:00</th>\n",
       "      <td>3</td>\n",
       "      <td>2</td>\n",
       "      <td>0.0</td>\n",
       "      <td>1006.32</td>\n",
       "      <td>NaN</td>\n",
       "      <td>24.49</td>\n",
       "      <td>92.91</td>\n",
       "      <td>NaN</td>\n",
       "      <td>NaN</td>\n",
       "      <td>0.12</td>\n",
       "      <td>...</td>\n",
       "      <td>0.27</td>\n",
       "      <td>1.73</td>\n",
       "      <td>10.47</td>\n",
       "      <td>31.61</td>\n",
       "      <td>26.0</td>\n",
       "      <td>NaN</td>\n",
       "      <td>-22.88791</td>\n",
       "      <td>-43.471074</td>\n",
       "      <td>656828.8045</td>\n",
       "      <td>7.468075e+06</td>\n",
       "    </tr>\n",
       "    <tr>\n",
       "      <th>2012-01-01 06:30:00+00:00</th>\n",
       "      <td>4</td>\n",
       "      <td>2</td>\n",
       "      <td>0.2</td>\n",
       "      <td>1005.82</td>\n",
       "      <td>NaN</td>\n",
       "      <td>24.54</td>\n",
       "      <td>92.59</td>\n",
       "      <td>NaN</td>\n",
       "      <td>NaN</td>\n",
       "      <td>0.00</td>\n",
       "      <td>...</td>\n",
       "      <td>0.21</td>\n",
       "      <td>1.18</td>\n",
       "      <td>6.68</td>\n",
       "      <td>37.39</td>\n",
       "      <td>20.0</td>\n",
       "      <td>NaN</td>\n",
       "      <td>-22.88791</td>\n",
       "      <td>-43.471074</td>\n",
       "      <td>656828.8045</td>\n",
       "      <td>7.468075e+06</td>\n",
       "    </tr>\n",
       "    <tr>\n",
       "      <th>2012-01-01 07:30:00+00:00</th>\n",
       "      <td>5</td>\n",
       "      <td>2</td>\n",
       "      <td>0.4</td>\n",
       "      <td>1005.45</td>\n",
       "      <td>NaN</td>\n",
       "      <td>24.78</td>\n",
       "      <td>90.71</td>\n",
       "      <td>NaN</td>\n",
       "      <td>NaN</td>\n",
       "      <td>0.00</td>\n",
       "      <td>...</td>\n",
       "      <td>0.16</td>\n",
       "      <td>0.95</td>\n",
       "      <td>9.35</td>\n",
       "      <td>33.45</td>\n",
       "      <td>7.0</td>\n",
       "      <td>NaN</td>\n",
       "      <td>-22.88791</td>\n",
       "      <td>-43.471074</td>\n",
       "      <td>656828.8045</td>\n",
       "      <td>7.468075e+06</td>\n",
       "    </tr>\n",
       "  </tbody>\n",
       "</table>\n",
       "<p>5 rows × 24 columns</p>\n",
       "</div>"
      ],
      "text/plain": [
       "                                   objectid  codnum  chuva     pres  rs  \\\n",
       "estação data                                                              \n",
       "BG      2012-01-01 03:30:00+00:00         1       2    0.2  1008.15 NaN   \n",
       "        2012-01-01 04:30:00+00:00         2       2    0.4  1007.13 NaN   \n",
       "        2012-01-01 05:30:00+00:00         3       2    0.0  1006.32 NaN   \n",
       "        2012-01-01 06:30:00+00:00         4       2    0.2  1005.82 NaN   \n",
       "        2012-01-01 07:30:00+00:00         5       2    0.4  1005.45 NaN   \n",
       "\n",
       "                                    temp     ur  dir_vento  vel_vento   so2  \\\n",
       "estação data                                                                  \n",
       "BG      2012-01-01 03:30:00+00:00  24.67  95.24        NaN        NaN   NaN   \n",
       "        2012-01-01 04:30:00+00:00  24.72  94.13        NaN        NaN  0.40   \n",
       "        2012-01-01 05:30:00+00:00  24.49  92.91        NaN        NaN  0.12   \n",
       "        2012-01-01 06:30:00+00:00  24.54  92.59        NaN        NaN  0.00   \n",
       "        2012-01-01 07:30:00+00:00  24.78  90.71        NaN        NaN  0.00   \n",
       "\n",
       "                                   ...    co    no    nox     o3  pm10  pm2_5  \\\n",
       "estação data                       ...                                          \n",
       "BG      2012-01-01 03:30:00+00:00  ...  0.42  2.18  17.36  28.06  81.0    NaN   \n",
       "        2012-01-01 04:30:00+00:00  ...  0.35  1.63  11.12  32.81  61.0    NaN   \n",
       "        2012-01-01 05:30:00+00:00  ...  0.27  1.73  10.47  31.61  26.0    NaN   \n",
       "        2012-01-01 06:30:00+00:00  ...  0.21  1.18   6.68  37.39  20.0    NaN   \n",
       "        2012-01-01 07:30:00+00:00  ...  0.16  0.95   9.35  33.45   7.0    NaN   \n",
       "\n",
       "                                        lat        lon  x_utm_sirgas2000  \\\n",
       "estação data                                                               \n",
       "BG      2012-01-01 03:30:00+00:00 -22.88791 -43.471074       656828.8045   \n",
       "        2012-01-01 04:30:00+00:00 -22.88791 -43.471074       656828.8045   \n",
       "        2012-01-01 05:30:00+00:00 -22.88791 -43.471074       656828.8045   \n",
       "        2012-01-01 06:30:00+00:00 -22.88791 -43.471074       656828.8045   \n",
       "        2012-01-01 07:30:00+00:00 -22.88791 -43.471074       656828.8045   \n",
       "\n",
       "                                   y_utm_sirgas2000  \n",
       "estação data                                         \n",
       "BG      2012-01-01 03:30:00+00:00      7.468075e+06  \n",
       "        2012-01-01 04:30:00+00:00      7.468075e+06  \n",
       "        2012-01-01 05:30:00+00:00      7.468075e+06  \n",
       "        2012-01-01 06:30:00+00:00      7.468075e+06  \n",
       "        2012-01-01 07:30:00+00:00      7.468075e+06  \n",
       "\n",
       "[5 rows x 24 columns]"
      ]
     },
     "execution_count": 9,
     "metadata": {},
     "output_type": "execute_result"
    }
   ],
   "source": [
    "import pandas as pd\n",
    "dados_horarios_qar = pd.read_csv(\"historical-data.csv\", index_col=[\"estação\",\"data\"], parse_dates=[\"data\"])\n",
    "dados_horarios_qar.head()"
   ]
  },
  {
   "cell_type": "code",
   "execution_count": 10,
   "id": "1429979a-185c-4f80-900e-1cd023e87a33",
   "metadata": {},
   "outputs": [
    {
     "data": {
      "application/vnd.microsoft.datawrangler.viewer.v0+json": {
       "columns": [
        {
         "name": "estação",
         "rawType": "object",
         "type": "string"
        },
        {
         "name": "min",
         "rawType": "datetime64[ns, UTC]",
         "type": "unknown"
        },
        {
         "name": "max",
         "rawType": "datetime64[ns, UTC]",
         "type": "unknown"
        },
        {
         "name": "size",
         "rawType": "int64",
         "type": "integer"
        }
       ],
       "conversionMethod": "pd.DataFrame",
       "ref": "b5bd48ec-13e3-4a28-9ed2-c38ecc701e3c",
       "rows": [
        [
         "AV",
         "2011-01-01 03:30:00+00:00",
         "2020-10-29 12:30:00+00:00",
         "82847"
        ],
        [
         "BG",
         "2012-01-01 03:30:00+00:00",
         "2022-01-01 02:30:00+00:00",
         "85374"
        ],
        [
         "CA",
         "2011-01-01 03:30:00+00:00",
         "2022-01-01 02:30:00+00:00",
         "92766"
        ],
        [
         "CG",
         "2012-01-01 03:30:00+00:00",
         "2022-01-01 02:30:00+00:00",
         "85647"
        ],
        [
         "IR",
         "2012-01-01 03:30:00+00:00",
         "2022-01-01 02:30:00+00:00",
         "86365"
        ],
        [
         "PG",
         "2012-01-01 03:30:00+00:00",
         "2022-01-01 02:30:00+00:00",
         "84061"
        ],
        [
         "SC",
         "2011-01-01 03:30:00+00:00",
         "2022-01-01 02:30:00+00:00",
         "95166"
        ],
        [
         "SP",
         "2011-01-01 03:30:00+00:00",
         "2022-01-01 02:30:00+00:00",
         "94867"
        ]
       ],
       "shape": {
        "columns": 3,
        "rows": 8
       }
      },
      "text/html": [
       "<div>\n",
       "<style scoped>\n",
       "    .dataframe tbody tr th:only-of-type {\n",
       "        vertical-align: middle;\n",
       "    }\n",
       "\n",
       "    .dataframe tbody tr th {\n",
       "        vertical-align: top;\n",
       "    }\n",
       "\n",
       "    .dataframe thead th {\n",
       "        text-align: right;\n",
       "    }\n",
       "</style>\n",
       "<table border=\"1\" class=\"dataframe\">\n",
       "  <thead>\n",
       "    <tr style=\"text-align: right;\">\n",
       "      <th></th>\n",
       "      <th>min</th>\n",
       "      <th>max</th>\n",
       "      <th>size</th>\n",
       "    </tr>\n",
       "    <tr>\n",
       "      <th>estação</th>\n",
       "      <th></th>\n",
       "      <th></th>\n",
       "      <th></th>\n",
       "    </tr>\n",
       "  </thead>\n",
       "  <tbody>\n",
       "    <tr>\n",
       "      <th>AV</th>\n",
       "      <td>2011-01-01 03:30:00+00:00</td>\n",
       "      <td>2020-10-29 12:30:00+00:00</td>\n",
       "      <td>82847</td>\n",
       "    </tr>\n",
       "    <tr>\n",
       "      <th>BG</th>\n",
       "      <td>2012-01-01 03:30:00+00:00</td>\n",
       "      <td>2022-01-01 02:30:00+00:00</td>\n",
       "      <td>85374</td>\n",
       "    </tr>\n",
       "    <tr>\n",
       "      <th>CA</th>\n",
       "      <td>2011-01-01 03:30:00+00:00</td>\n",
       "      <td>2022-01-01 02:30:00+00:00</td>\n",
       "      <td>92766</td>\n",
       "    </tr>\n",
       "    <tr>\n",
       "      <th>CG</th>\n",
       "      <td>2012-01-01 03:30:00+00:00</td>\n",
       "      <td>2022-01-01 02:30:00+00:00</td>\n",
       "      <td>85647</td>\n",
       "    </tr>\n",
       "    <tr>\n",
       "      <th>IR</th>\n",
       "      <td>2012-01-01 03:30:00+00:00</td>\n",
       "      <td>2022-01-01 02:30:00+00:00</td>\n",
       "      <td>86365</td>\n",
       "    </tr>\n",
       "    <tr>\n",
       "      <th>PG</th>\n",
       "      <td>2012-01-01 03:30:00+00:00</td>\n",
       "      <td>2022-01-01 02:30:00+00:00</td>\n",
       "      <td>84061</td>\n",
       "    </tr>\n",
       "    <tr>\n",
       "      <th>SC</th>\n",
       "      <td>2011-01-01 03:30:00+00:00</td>\n",
       "      <td>2022-01-01 02:30:00+00:00</td>\n",
       "      <td>95166</td>\n",
       "    </tr>\n",
       "    <tr>\n",
       "      <th>SP</th>\n",
       "      <td>2011-01-01 03:30:00+00:00</td>\n",
       "      <td>2022-01-01 02:30:00+00:00</td>\n",
       "      <td>94867</td>\n",
       "    </tr>\n",
       "  </tbody>\n",
       "</table>\n",
       "</div>"
      ],
      "text/plain": [
       "                              min                       max   size\n",
       "estação                                                           \n",
       "AV      2011-01-01 03:30:00+00:00 2020-10-29 12:30:00+00:00  82847\n",
       "BG      2012-01-01 03:30:00+00:00 2022-01-01 02:30:00+00:00  85374\n",
       "CA      2011-01-01 03:30:00+00:00 2022-01-01 02:30:00+00:00  92766\n",
       "CG      2012-01-01 03:30:00+00:00 2022-01-01 02:30:00+00:00  85647\n",
       "IR      2012-01-01 03:30:00+00:00 2022-01-01 02:30:00+00:00  86365\n",
       "PG      2012-01-01 03:30:00+00:00 2022-01-01 02:30:00+00:00  84061\n",
       "SC      2011-01-01 03:30:00+00:00 2022-01-01 02:30:00+00:00  95166\n",
       "SP      2011-01-01 03:30:00+00:00 2022-01-01 02:30:00+00:00  94867"
      ]
     },
     "execution_count": 10,
     "metadata": {},
     "output_type": "execute_result"
    }
   ],
   "source": [
    "dados_horarios_qar.reset_index().groupby(\"estação\").data.agg([\"min\", \"max\", \"size\"])"
   ]
  },
  {
   "cell_type": "code",
   "execution_count": 11,
   "id": "26ac2194",
   "metadata": {},
   "outputs": [
    {
     "data": {
      "application/vnd.microsoft.datawrangler.viewer.v0+json": {
       "columns": [
        {
         "name": "estação",
         "rawType": "object",
         "type": "string"
        },
        {
         "name": "pm10",
         "rawType": "int64",
         "type": "integer"
        },
        {
         "name": "pm2_5",
         "rawType": "int64",
         "type": "integer"
        },
        {
         "name": "o3",
         "rawType": "int64",
         "type": "integer"
        },
        {
         "name": "co",
         "rawType": "int64",
         "type": "integer"
        },
        {
         "name": "no2",
         "rawType": "int64",
         "type": "integer"
        },
        {
         "name": "so2",
         "rawType": "int64",
         "type": "integer"
        },
        {
         "name": "temp",
         "rawType": "int64",
         "type": "integer"
        },
        {
         "name": "objectid",
         "rawType": "int64",
         "type": "integer"
        }
       ],
       "conversionMethod": "pd.DataFrame",
       "ref": "c61bf611-0b7f-434d-879e-87db56b08460",
       "rows": [
        [
         "AV",
         "80935",
         "0",
         "80748",
         "80206",
         "0",
         "70916",
         "69833",
         "82847"
        ],
        [
         "BG",
         "77456",
         "0",
         "80458",
         "75084",
         "76094",
         "70163",
         "69338",
         "85374"
        ],
        [
         "CA",
         "87154",
         "0",
         "87643",
         "87396",
         "0",
         "35688",
         "73581",
         "92766"
        ],
        [
         "CG",
         "80959",
         "0",
         "81326",
         "75358",
         "76481",
         "75188",
         "85030",
         "85647"
        ],
        [
         "IR",
         "82487",
         "76830",
         "79545",
         "78138",
         "79620",
         "69272",
         "76440",
         "86365"
        ],
        [
         "PG",
         "79987",
         "0",
         "77922",
         "0",
         "0",
         "0",
         "79621",
         "84061"
        ],
        [
         "SC",
         "88415",
         "0",
         "90559",
         "88526",
         "0",
         "85632",
         "87253",
         "95166"
        ],
        [
         "SP",
         "91889",
         "0",
         "87851",
         "91610",
         "57938",
         "83782",
         "91316",
         "94867"
        ]
       ],
       "shape": {
        "columns": 8,
        "rows": 8
       }
      },
      "text/html": [
       "<div>\n",
       "<style scoped>\n",
       "    .dataframe tbody tr th:only-of-type {\n",
       "        vertical-align: middle;\n",
       "    }\n",
       "\n",
       "    .dataframe tbody tr th {\n",
       "        vertical-align: top;\n",
       "    }\n",
       "\n",
       "    .dataframe thead th {\n",
       "        text-align: right;\n",
       "    }\n",
       "</style>\n",
       "<table border=\"1\" class=\"dataframe\">\n",
       "  <thead>\n",
       "    <tr style=\"text-align: right;\">\n",
       "      <th></th>\n",
       "      <th>pm10</th>\n",
       "      <th>pm2_5</th>\n",
       "      <th>o3</th>\n",
       "      <th>co</th>\n",
       "      <th>no2</th>\n",
       "      <th>so2</th>\n",
       "      <th>temp</th>\n",
       "      <th>objectid</th>\n",
       "    </tr>\n",
       "    <tr>\n",
       "      <th>estação</th>\n",
       "      <th></th>\n",
       "      <th></th>\n",
       "      <th></th>\n",
       "      <th></th>\n",
       "      <th></th>\n",
       "      <th></th>\n",
       "      <th></th>\n",
       "      <th></th>\n",
       "    </tr>\n",
       "  </thead>\n",
       "  <tbody>\n",
       "    <tr>\n",
       "      <th>AV</th>\n",
       "      <td>80935</td>\n",
       "      <td>0</td>\n",
       "      <td>80748</td>\n",
       "      <td>80206</td>\n",
       "      <td>0</td>\n",
       "      <td>70916</td>\n",
       "      <td>69833</td>\n",
       "      <td>82847</td>\n",
       "    </tr>\n",
       "    <tr>\n",
       "      <th>BG</th>\n",
       "      <td>77456</td>\n",
       "      <td>0</td>\n",
       "      <td>80458</td>\n",
       "      <td>75084</td>\n",
       "      <td>76094</td>\n",
       "      <td>70163</td>\n",
       "      <td>69338</td>\n",
       "      <td>85374</td>\n",
       "    </tr>\n",
       "    <tr>\n",
       "      <th>CA</th>\n",
       "      <td>87154</td>\n",
       "      <td>0</td>\n",
       "      <td>87643</td>\n",
       "      <td>87396</td>\n",
       "      <td>0</td>\n",
       "      <td>35688</td>\n",
       "      <td>73581</td>\n",
       "      <td>92766</td>\n",
       "    </tr>\n",
       "    <tr>\n",
       "      <th>CG</th>\n",
       "      <td>80959</td>\n",
       "      <td>0</td>\n",
       "      <td>81326</td>\n",
       "      <td>75358</td>\n",
       "      <td>76481</td>\n",
       "      <td>75188</td>\n",
       "      <td>85030</td>\n",
       "      <td>85647</td>\n",
       "    </tr>\n",
       "    <tr>\n",
       "      <th>IR</th>\n",
       "      <td>82487</td>\n",
       "      <td>76830</td>\n",
       "      <td>79545</td>\n",
       "      <td>78138</td>\n",
       "      <td>79620</td>\n",
       "      <td>69272</td>\n",
       "      <td>76440</td>\n",
       "      <td>86365</td>\n",
       "    </tr>\n",
       "    <tr>\n",
       "      <th>PG</th>\n",
       "      <td>79987</td>\n",
       "      <td>0</td>\n",
       "      <td>77922</td>\n",
       "      <td>0</td>\n",
       "      <td>0</td>\n",
       "      <td>0</td>\n",
       "      <td>79621</td>\n",
       "      <td>84061</td>\n",
       "    </tr>\n",
       "    <tr>\n",
       "      <th>SC</th>\n",
       "      <td>88415</td>\n",
       "      <td>0</td>\n",
       "      <td>90559</td>\n",
       "      <td>88526</td>\n",
       "      <td>0</td>\n",
       "      <td>85632</td>\n",
       "      <td>87253</td>\n",
       "      <td>95166</td>\n",
       "    </tr>\n",
       "    <tr>\n",
       "      <th>SP</th>\n",
       "      <td>91889</td>\n",
       "      <td>0</td>\n",
       "      <td>87851</td>\n",
       "      <td>91610</td>\n",
       "      <td>57938</td>\n",
       "      <td>83782</td>\n",
       "      <td>91316</td>\n",
       "      <td>94867</td>\n",
       "    </tr>\n",
       "  </tbody>\n",
       "</table>\n",
       "</div>"
      ],
      "text/plain": [
       "          pm10  pm2_5     o3     co    no2    so2   temp  objectid\n",
       "estação                                                           \n",
       "AV       80935      0  80748  80206      0  70916  69833     82847\n",
       "BG       77456      0  80458  75084  76094  70163  69338     85374\n",
       "CA       87154      0  87643  87396      0  35688  73581     92766\n",
       "CG       80959      0  81326  75358  76481  75188  85030     85647\n",
       "IR       82487  76830  79545  78138  79620  69272  76440     86365\n",
       "PG       79987      0  77922      0      0      0  79621     84061\n",
       "SC       88415      0  90559  88526      0  85632  87253     95166\n",
       "SP       91889      0  87851  91610  57938  83782  91316     94867"
      ]
     },
     "execution_count": 11,
     "metadata": {},
     "output_type": "execute_result"
    }
   ],
   "source": [
    "dados_horarios_qar.groupby(level=\"estação\").agg({\"pm10\": \"count\", \"pm2_5\": \"count\", \"o3\": \"count\", \"co\": \"count\", \"no2\": \"count\", \"so2\": \"count\", \"temp\": \"count\", \"objectid\": \"size\"})"
   ]
  },
  {
   "cell_type": "code",
   "execution_count": 12,
   "id": "c0e1d91e-c0e1-4ab8-a4f2-862e2f567969",
   "metadata": {},
   "outputs": [
    {
     "data": {
      "application/vnd.microsoft.datawrangler.viewer.v0+json": {
       "columns": [
        {
         "name": "data",
         "rawType": "datetime64[ns, UTC]",
         "type": "unknown"
        },
        {
         "name": "objectid",
         "rawType": "int64",
         "type": "integer"
        },
        {
         "name": "codnum",
         "rawType": "int64",
         "type": "integer"
        },
        {
         "name": "chuva",
         "rawType": "float64",
         "type": "float"
        },
        {
         "name": "pres",
         "rawType": "float64",
         "type": "float"
        },
        {
         "name": "rs",
         "rawType": "float64",
         "type": "float"
        },
        {
         "name": "temp",
         "rawType": "float64",
         "type": "float"
        },
        {
         "name": "ur",
         "rawType": "float64",
         "type": "float"
        },
        {
         "name": "dir_vento",
         "rawType": "float64",
         "type": "float"
        },
        {
         "name": "vel_vento",
         "rawType": "float64",
         "type": "float"
        },
        {
         "name": "so2",
         "rawType": "float64",
         "type": "float"
        },
        {
         "name": "no2",
         "rawType": "float64",
         "type": "float"
        },
        {
         "name": "hcnm",
         "rawType": "float64",
         "type": "float"
        },
        {
         "name": "hct",
         "rawType": "float64",
         "type": "float"
        },
        {
         "name": "ch4",
         "rawType": "float64",
         "type": "float"
        },
        {
         "name": "co",
         "rawType": "float64",
         "type": "float"
        },
        {
         "name": "no",
         "rawType": "float64",
         "type": "float"
        },
        {
         "name": "nox",
         "rawType": "float64",
         "type": "float"
        },
        {
         "name": "o3",
         "rawType": "float64",
         "type": "float"
        },
        {
         "name": "pm10",
         "rawType": "float64",
         "type": "float"
        },
        {
         "name": "pm2_5",
         "rawType": "float64",
         "type": "float"
        },
        {
         "name": "lat",
         "rawType": "float64",
         "type": "float"
        },
        {
         "name": "lon",
         "rawType": "float64",
         "type": "float"
        },
        {
         "name": "x_utm_sirgas2000",
         "rawType": "float64",
         "type": "float"
        },
        {
         "name": "y_utm_sirgas2000",
         "rawType": "float64",
         "type": "float"
        }
       ],
       "conversionMethod": "pd.DataFrame",
       "ref": "7c22b5c0-95c4-405f-936b-a14406aa6216",
       "rows": [
        [
         "2011-01-01 03:30:00+00:00",
         "103080",
         "3",
         "0.2",
         "1009.33",
         "1.57",
         "21.81",
         "84.5",
         "250.67",
         "0.34",
         null,
         null,
         null,
         null,
         null,
         "0.17",
         null,
         null,
         "17.89",
         "10.0",
         null,
         "-22.90834428",
         "-43.17815176",
         "686853.7075",
         "7465469.7974"
        ],
        [
         "2011-01-01 04:30:00+00:00",
         "103081",
         "3",
         "0.0",
         "1009.0",
         "1.4",
         "21.79",
         "84.73",
         "121.17",
         "0.92",
         null,
         null,
         null,
         null,
         null,
         "0.21",
         null,
         null,
         "12.44",
         "11.0",
         null,
         "-22.90834428",
         "-43.17815176",
         "686853.7075",
         "7465469.7974"
        ],
        [
         "2011-01-01 05:30:00+00:00",
         "103082",
         "3",
         "0.2",
         "1008.17",
         "1.37",
         "21.44",
         "85.7",
         "85.67",
         "1.3",
         null,
         null,
         null,
         null,
         null,
         "0.17",
         null,
         null,
         "18.97",
         "38.0",
         null,
         "-22.90834428",
         "-43.17815176",
         "686853.7075",
         "7465469.7974"
        ],
        [
         "2011-01-01 06:30:00+00:00",
         "103083",
         "3",
         "0.0",
         "1008.0",
         "1.3",
         "21.17",
         "88.57",
         "85.33",
         "1.33",
         null,
         null,
         null,
         null,
         null,
         "0.22",
         null,
         null,
         "11.08",
         "8.0",
         null,
         "-22.90834428",
         "-43.17815176",
         "686853.7075",
         "7465469.7974"
        ],
        [
         "2011-01-01 07:30:00+00:00",
         "103084",
         "3",
         "0.2",
         "1008.0",
         "1.32",
         "21.25",
         "89.28",
         "73.0",
         "0.82",
         null,
         null,
         null,
         null,
         null,
         "0.22",
         null,
         null,
         "11.28",
         "10.0",
         null,
         "-22.90834428",
         "-43.17815176",
         "686853.7075",
         "7465469.7974"
        ]
       ],
       "shape": {
        "columns": 24,
        "rows": 5
       }
      },
      "text/html": [
       "<div>\n",
       "<style scoped>\n",
       "    .dataframe tbody tr th:only-of-type {\n",
       "        vertical-align: middle;\n",
       "    }\n",
       "\n",
       "    .dataframe tbody tr th {\n",
       "        vertical-align: top;\n",
       "    }\n",
       "\n",
       "    .dataframe thead th {\n",
       "        text-align: right;\n",
       "    }\n",
       "</style>\n",
       "<table border=\"1\" class=\"dataframe\">\n",
       "  <thead>\n",
       "    <tr style=\"text-align: right;\">\n",
       "      <th></th>\n",
       "      <th>objectid</th>\n",
       "      <th>codnum</th>\n",
       "      <th>chuva</th>\n",
       "      <th>pres</th>\n",
       "      <th>rs</th>\n",
       "      <th>temp</th>\n",
       "      <th>ur</th>\n",
       "      <th>dir_vento</th>\n",
       "      <th>vel_vento</th>\n",
       "      <th>so2</th>\n",
       "      <th>...</th>\n",
       "      <th>co</th>\n",
       "      <th>no</th>\n",
       "      <th>nox</th>\n",
       "      <th>o3</th>\n",
       "      <th>pm10</th>\n",
       "      <th>pm2_5</th>\n",
       "      <th>lat</th>\n",
       "      <th>lon</th>\n",
       "      <th>x_utm_sirgas2000</th>\n",
       "      <th>y_utm_sirgas2000</th>\n",
       "    </tr>\n",
       "    <tr>\n",
       "      <th>data</th>\n",
       "      <th></th>\n",
       "      <th></th>\n",
       "      <th></th>\n",
       "      <th></th>\n",
       "      <th></th>\n",
       "      <th></th>\n",
       "      <th></th>\n",
       "      <th></th>\n",
       "      <th></th>\n",
       "      <th></th>\n",
       "      <th></th>\n",
       "      <th></th>\n",
       "      <th></th>\n",
       "      <th></th>\n",
       "      <th></th>\n",
       "      <th></th>\n",
       "      <th></th>\n",
       "      <th></th>\n",
       "      <th></th>\n",
       "      <th></th>\n",
       "      <th></th>\n",
       "    </tr>\n",
       "  </thead>\n",
       "  <tbody>\n",
       "    <tr>\n",
       "      <th>2011-01-01 03:30:00+00:00</th>\n",
       "      <td>103080</td>\n",
       "      <td>3</td>\n",
       "      <td>0.2</td>\n",
       "      <td>1009.33</td>\n",
       "      <td>1.57</td>\n",
       "      <td>21.81</td>\n",
       "      <td>84.50</td>\n",
       "      <td>250.67</td>\n",
       "      <td>0.34</td>\n",
       "      <td>NaN</td>\n",
       "      <td>...</td>\n",
       "      <td>0.17</td>\n",
       "      <td>NaN</td>\n",
       "      <td>NaN</td>\n",
       "      <td>17.89</td>\n",
       "      <td>10.0</td>\n",
       "      <td>NaN</td>\n",
       "      <td>-22.908344</td>\n",
       "      <td>-43.178152</td>\n",
       "      <td>686853.7075</td>\n",
       "      <td>7.465470e+06</td>\n",
       "    </tr>\n",
       "    <tr>\n",
       "      <th>2011-01-01 04:30:00+00:00</th>\n",
       "      <td>103081</td>\n",
       "      <td>3</td>\n",
       "      <td>0.0</td>\n",
       "      <td>1009.00</td>\n",
       "      <td>1.40</td>\n",
       "      <td>21.79</td>\n",
       "      <td>84.73</td>\n",
       "      <td>121.17</td>\n",
       "      <td>0.92</td>\n",
       "      <td>NaN</td>\n",
       "      <td>...</td>\n",
       "      <td>0.21</td>\n",
       "      <td>NaN</td>\n",
       "      <td>NaN</td>\n",
       "      <td>12.44</td>\n",
       "      <td>11.0</td>\n",
       "      <td>NaN</td>\n",
       "      <td>-22.908344</td>\n",
       "      <td>-43.178152</td>\n",
       "      <td>686853.7075</td>\n",
       "      <td>7.465470e+06</td>\n",
       "    </tr>\n",
       "    <tr>\n",
       "      <th>2011-01-01 05:30:00+00:00</th>\n",
       "      <td>103082</td>\n",
       "      <td>3</td>\n",
       "      <td>0.2</td>\n",
       "      <td>1008.17</td>\n",
       "      <td>1.37</td>\n",
       "      <td>21.44</td>\n",
       "      <td>85.70</td>\n",
       "      <td>85.67</td>\n",
       "      <td>1.30</td>\n",
       "      <td>NaN</td>\n",
       "      <td>...</td>\n",
       "      <td>0.17</td>\n",
       "      <td>NaN</td>\n",
       "      <td>NaN</td>\n",
       "      <td>18.97</td>\n",
       "      <td>38.0</td>\n",
       "      <td>NaN</td>\n",
       "      <td>-22.908344</td>\n",
       "      <td>-43.178152</td>\n",
       "      <td>686853.7075</td>\n",
       "      <td>7.465470e+06</td>\n",
       "    </tr>\n",
       "    <tr>\n",
       "      <th>2011-01-01 06:30:00+00:00</th>\n",
       "      <td>103083</td>\n",
       "      <td>3</td>\n",
       "      <td>0.0</td>\n",
       "      <td>1008.00</td>\n",
       "      <td>1.30</td>\n",
       "      <td>21.17</td>\n",
       "      <td>88.57</td>\n",
       "      <td>85.33</td>\n",
       "      <td>1.33</td>\n",
       "      <td>NaN</td>\n",
       "      <td>...</td>\n",
       "      <td>0.22</td>\n",
       "      <td>NaN</td>\n",
       "      <td>NaN</td>\n",
       "      <td>11.08</td>\n",
       "      <td>8.0</td>\n",
       "      <td>NaN</td>\n",
       "      <td>-22.908344</td>\n",
       "      <td>-43.178152</td>\n",
       "      <td>686853.7075</td>\n",
       "      <td>7.465470e+06</td>\n",
       "    </tr>\n",
       "    <tr>\n",
       "      <th>2011-01-01 07:30:00+00:00</th>\n",
       "      <td>103084</td>\n",
       "      <td>3</td>\n",
       "      <td>0.2</td>\n",
       "      <td>1008.00</td>\n",
       "      <td>1.32</td>\n",
       "      <td>21.25</td>\n",
       "      <td>89.28</td>\n",
       "      <td>73.00</td>\n",
       "      <td>0.82</td>\n",
       "      <td>NaN</td>\n",
       "      <td>...</td>\n",
       "      <td>0.22</td>\n",
       "      <td>NaN</td>\n",
       "      <td>NaN</td>\n",
       "      <td>11.28</td>\n",
       "      <td>10.0</td>\n",
       "      <td>NaN</td>\n",
       "      <td>-22.908344</td>\n",
       "      <td>-43.178152</td>\n",
       "      <td>686853.7075</td>\n",
       "      <td>7.465470e+06</td>\n",
       "    </tr>\n",
       "  </tbody>\n",
       "</table>\n",
       "<p>5 rows × 24 columns</p>\n",
       "</div>"
      ],
      "text/plain": [
       "                           objectid  codnum  chuva     pres    rs   temp  \\\n",
       "data                                                                       \n",
       "2011-01-01 03:30:00+00:00    103080       3    0.2  1009.33  1.57  21.81   \n",
       "2011-01-01 04:30:00+00:00    103081       3    0.0  1009.00  1.40  21.79   \n",
       "2011-01-01 05:30:00+00:00    103082       3    0.2  1008.17  1.37  21.44   \n",
       "2011-01-01 06:30:00+00:00    103083       3    0.0  1008.00  1.30  21.17   \n",
       "2011-01-01 07:30:00+00:00    103084       3    0.2  1008.00  1.32  21.25   \n",
       "\n",
       "                              ur  dir_vento  vel_vento  so2  ...    co  no  \\\n",
       "data                                                         ...             \n",
       "2011-01-01 03:30:00+00:00  84.50     250.67       0.34  NaN  ...  0.17 NaN   \n",
       "2011-01-01 04:30:00+00:00  84.73     121.17       0.92  NaN  ...  0.21 NaN   \n",
       "2011-01-01 05:30:00+00:00  85.70      85.67       1.30  NaN  ...  0.17 NaN   \n",
       "2011-01-01 06:30:00+00:00  88.57      85.33       1.33  NaN  ...  0.22 NaN   \n",
       "2011-01-01 07:30:00+00:00  89.28      73.00       0.82  NaN  ...  0.22 NaN   \n",
       "\n",
       "                           nox     o3  pm10  pm2_5        lat        lon  \\\n",
       "data                                                                       \n",
       "2011-01-01 03:30:00+00:00  NaN  17.89  10.0    NaN -22.908344 -43.178152   \n",
       "2011-01-01 04:30:00+00:00  NaN  12.44  11.0    NaN -22.908344 -43.178152   \n",
       "2011-01-01 05:30:00+00:00  NaN  18.97  38.0    NaN -22.908344 -43.178152   \n",
       "2011-01-01 06:30:00+00:00  NaN  11.08   8.0    NaN -22.908344 -43.178152   \n",
       "2011-01-01 07:30:00+00:00  NaN  11.28  10.0    NaN -22.908344 -43.178152   \n",
       "\n",
       "                           x_utm_sirgas2000  y_utm_sirgas2000  \n",
       "data                                                           \n",
       "2011-01-01 03:30:00+00:00       686853.7075      7.465470e+06  \n",
       "2011-01-01 04:30:00+00:00       686853.7075      7.465470e+06  \n",
       "2011-01-01 05:30:00+00:00       686853.7075      7.465470e+06  \n",
       "2011-01-01 06:30:00+00:00       686853.7075      7.465470e+06  \n",
       "2011-01-01 07:30:00+00:00       686853.7075      7.465470e+06  \n",
       "\n",
       "[5 rows x 24 columns]"
      ]
     },
     "execution_count": 12,
     "metadata": {},
     "output_type": "execute_result"
    }
   ],
   "source": [
    "dados_horarios_qar_ca = dados_horarios_qar[dados_horarios_qar.index.isin([\"CA\"], level=\"estação\")].droplevel(\"estação\")\n",
    "dados_horarios_qar_ca.head()"
   ]
  },
  {
   "cell_type": "code",
   "execution_count": 13,
   "id": "fb766b1b-a186-4788-9498-04ee6511f338",
   "metadata": {},
   "outputs": [
    {
     "data": {
      "text/plain": [
       "<Axes: xlabel='data'>"
      ]
     },
     "execution_count": 13,
     "metadata": {},
     "output_type": "execute_result"
    },
    {
     "data": {
      "image/png": "[encoded data removed]",
      "text/plain": [
       "<Figure size 640x480 with 1 Axes>"
      ]
     },
     "metadata": {},
     "output_type": "display_data"
    }
   ],
   "source": [
    "dados_horarios_qar_ca[[\"pm10\", \"o3\", \"so2\"]].plot()"
   ]
  },
  {
   "cell_type": "code",
   "execution_count": 52,
   "id": "9f09b22f",
   "metadata": {},
   "outputs": [
    {
     "data": {
      "text/plain": [
       "<Axes: xlabel='o3', ylabel='temp'>"
      ]
     },
     "execution_count": 52,
     "metadata": {},
     "output_type": "execute_result"
    },
    {
     "data": {
      "image/png": "[encoded data removed]",
      "text/plain": [
       "<Figure size 640x480 with 1 Axes>"
      ]
     },
     "metadata": {},
     "output_type": "display_data"
    }
   ],
   "source": [
    "import seaborn as sns\n",
    "sns.scatterplot(x=\"o3\", y=\"temp\", data=dados_horarios_qar[(dados_horarios_qar[\"temp\"] > 0) & (dados_horarios_qar[\"chuva\"] == 0)])"
   ]
  },
  {
   "cell_type": "code",
   "execution_count": null,
   "id": "a311ddfe",
   "metadata": {},
   "outputs": [
    {
     "data": {
      "text/plain": [
       "50"
      ]
     },
     "execution_count": 24,
     "metadata": {},
     "output_type": "execute_result"
    }
   ],
   "source": [
    "import math\n"
   ]
  },
  {
   "cell_type": "code",
   "execution_count": 50,
   "id": "968819fb",
   "metadata": {},
   "outputs": [
    {
     "data": {
      "text/plain": [
       "<Axes: xlabel='temp'>"
      ]
     },
     "execution_count": 50,
     "metadata": {},
     "output_type": "execute_result"
    },
    {
     "data": {
      "image/png": "[encoded data removed]",
      "text/plain": [
       "<Figure size 640x480 with 1 Axes>"
      ]
     },
     "metadata": {},
     "output_type": "display_data"
    }
   ],
   "source": [
    "# import math\n",
    "# range_start = math.floor(dados_horarios_qar[dados_horarios_qar[\"temp\"] > 0][\"temp\"].min())\n",
    "# range_stop = math.ceil(dados_horarios_qar[\"temp\"].max()) + 1\n",
    "range_start = 5\n",
    "range_stop = 50\n",
    "\n",
    "import numpy as np\n",
    "dados_horarios_qar_ca.groupby(pd.cut(dados_horarios_qar_ca[\"temp\"], np.arange(range_start, range_stop, 5)), observed=False).agg({\"pm10\": \"mean\", \"o3\": \"mean\", \"so2\": \"mean\"}).plot()"
   ]
  }
 ],
 "metadata": {
  "kernelspec": {
   "display_name": "Python 3 (ipykernel)",
   "language": "python",
   "name": "python3"
  },
  "language_info": {
   "codemirror_mode": {
    "name": "ipython",
    "version": 3
   },
   "file_extension": ".py",
   "mimetype": "text/x-python",
   "name": "python",
   "nbconvert_exporter": "python",
   "pygments_lexer": "ipython3",
   "version": "3.13.2"
  }
 },
 "nbformat": 4,
 "nbformat_minor": 5
}
